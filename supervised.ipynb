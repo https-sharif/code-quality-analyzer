{
 "cells": [
  {
   "cell_type": "code",
   "execution_count": 2,
   "id": "78208654",
   "metadata": {},
   "outputs": [],
   "source": [
    "import pandas as pd\n",
    "from sklearn.model_selection import train_test_split\n",
    "from sklearn.preprocessing import StandardScaler, LabelEncoder\n",
    "from sklearn.ensemble import RandomForestClassifier\n",
    "from sklearn.metrics import classification_report, confusion_matrix\n",
    "import joblib"
   ]
  },
  {
   "cell_type": "code",
   "execution_count": 3,
   "id": "1605f638",
   "metadata": {},
   "outputs": [],
   "source": [
    "df = pd.read_csv(\"data/metrics.csv\")\n",
    "\n",
    "X = df.drop(columns=[\"filename\", \"language\", \"quality\"])\n",
    "y = df[\"quality\"]\n"
   ]
  },
  {
   "cell_type": "code",
   "execution_count": 4,
   "id": "93ea521c",
   "metadata": {},
   "outputs": [],
   "source": [
    "le = LabelEncoder()\n",
    "y_encoded = le.fit_transform(y)\n"
   ]
  },
  {
   "cell_type": "code",
   "execution_count": 5,
   "id": "67e28b9a",
   "metadata": {},
   "outputs": [],
   "source": [
    "X_train, X_test, y_train, y_test = train_test_split(\n",
    "    X, y_encoded, test_size=0.2, random_state=42, stratify=y_encoded\n",
    ")"
   ]
  },
  {
   "cell_type": "code",
   "execution_count": 6,
   "id": "d32b9b08",
   "metadata": {},
   "outputs": [],
   "source": [
    "scaler = StandardScaler()\n",
    "X_train_scaled = scaler.fit_transform(X_train)\n",
    "X_test_scaled = scaler.transform(X_test)"
   ]
  },
  {
   "cell_type": "code",
   "execution_count": 7,
   "id": "78ade97a",
   "metadata": {},
   "outputs": [
    {
     "data": {
      "text/plain": [
       "['rf_quality_model.pkl']"
      ]
     },
     "execution_count": 7,
     "metadata": {},
     "output_type": "execute_result"
    }
   ],
   "source": [
    "rf = RandomForestClassifier(n_estimators=200, random_state=42)\n",
    "rf.fit(X_train_scaled, y_train)\n",
    "\n",
    "joblib.dump(rf, \"rf_quality_model.pkl\")\n"
   ]
  },
  {
   "cell_type": "code",
   "execution_count": 8,
   "id": "60d8e5ce",
   "metadata": {},
   "outputs": [
    {
     "name": "stdout",
     "output_type": "stream",
     "text": [
      "Classification Report:\n",
      "\n",
      "              precision    recall  f1-score   support\n",
      "\n",
      "     Average       1.00      1.00      1.00       140\n",
      "         Bad       1.00      1.00      1.00       453\n",
      "        Good       1.00      1.00      1.00       205\n",
      "\n",
      "    accuracy                           1.00       798\n",
      "   macro avg       1.00      1.00      1.00       798\n",
      "weighted avg       1.00      1.00      1.00       798\n",
      "\n",
      "Confusion Matrix:\n",
      "\n",
      "[[140   0   0]\n",
      " [  0 453   0]\n",
      " [  0   0 205]]\n"
     ]
    }
   ],
   "source": [
    "y_pred = rf.predict(X_test_scaled)\n",
    "\n",
    "print(\"Classification Report:\\n\")\n",
    "print(classification_report(y_test, y_pred, target_names=le.classes_))\n",
    "\n",
    "print(\"Confusion Matrix:\\n\")\n",
    "print(confusion_matrix(y_test, y_pred))\n"
   ]
  },
  {
   "cell_type": "code",
   "execution_count": 10,
   "id": "d9f7cda7",
   "metadata": {},
   "outputs": [
    {
     "name": "stdout",
     "output_type": "stream",
     "text": [
      "              precision    recall  f1-score   support\n",
      "\n",
      "     Average       1.00      1.00      1.00       140\n",
      "         Bad       1.00      1.00      1.00       453\n",
      "        Good       1.00      1.00      1.00       205\n",
      "\n",
      "    accuracy                           1.00       798\n",
      "   macro avg       1.00      1.00      1.00       798\n",
      "weighted avg       1.00      1.00      1.00       798\n",
      "\n",
      "[[140   0   0]\n",
      " [  0 453   0]\n",
      " [  0   0 205]]\n"
     ]
    }
   ],
   "source": [
    "from sklearn.ensemble import GradientBoostingClassifier\n",
    "from sklearn.metrics import classification_report, confusion_matrix\n",
    "\n",
    "gbc = GradientBoostingClassifier(n_estimators=200, random_state=42)\n",
    "gbc.fit(X_train_scaled, y_train)\n",
    "\n",
    "y_pred_gbc = gbc.predict(X_test_scaled)\n",
    "\n",
    "print(classification_report(y_test, y_pred_gbc, target_names=le.classes_))\n",
    "print(confusion_matrix(y_test, y_pred_gbc))"
   ]
  },
  {
   "cell_type": "code",
   "execution_count": 11,
   "id": "05f209c6",
   "metadata": {},
   "outputs": [
    {
     "name": "stdout",
     "output_type": "stream",
     "text": [
      "              precision    recall  f1-score   support\n",
      "\n",
      "     Average       1.00      1.00      1.00       140\n",
      "         Bad       1.00      1.00      1.00       453\n",
      "        Good       1.00      1.00      1.00       205\n",
      "\n",
      "    accuracy                           1.00       798\n",
      "   macro avg       1.00      1.00      1.00       798\n",
      "weighted avg       1.00      1.00      1.00       798\n",
      "\n"
     ]
    }
   ],
   "source": [
    "from sklearn.svm import SVC\n",
    "\n",
    "svc = SVC(kernel='rbf', C=1.0, gamma='scale')\n",
    "svc.fit(X_train_scaled, y_train)\n",
    "\n",
    "y_pred_svc = svc.predict(X_test_scaled)\n",
    "print(classification_report(y_test, y_pred_svc, target_names=le.classes_))\n"
   ]
  },
  {
   "cell_type": "code",
   "execution_count": 13,
   "id": "96cc6b4c",
   "metadata": {},
   "outputs": [
    {
     "name": "stdout",
     "output_type": "stream",
     "text": [
      "              precision    recall  f1-score   support\n",
      "\n",
      "     Average       1.00      1.00      1.00       140\n",
      "         Bad       1.00      1.00      1.00       453\n",
      "        Good       1.00      1.00      1.00       205\n",
      "\n",
      "    accuracy                           1.00       798\n",
      "   macro avg       1.00      1.00      1.00       798\n",
      "weighted avg       1.00      1.00      1.00       798\n",
      "\n"
     ]
    },
    {
     "name": "stderr",
     "output_type": "stream",
     "text": [
      "/Users/sharif/Coding/Machine Learning/code_quality_analyzer/venv/lib/python3.12/site-packages/sklearn/linear_model/_logistic.py:1272: FutureWarning: 'multi_class' was deprecated in version 1.5 and will be removed in 1.8. From then on, it will always use 'multinomial'. Leave it to its default value to avoid this warning.\n",
      "  warnings.warn(\n"
     ]
    }
   ],
   "source": [
    "from sklearn.linear_model import LogisticRegression\n",
    "\n",
    "lr = LogisticRegression(multi_class='multinomial', max_iter=1000)\n",
    "lr.fit(X_train_scaled, y_train)\n",
    "\n",
    "y_pred_lr = lr.predict(X_test_scaled)\n",
    "print(classification_report(y_test, y_pred_lr, target_names=le.classes_))\n"
   ]
  },
  {
   "cell_type": "code",
   "execution_count": 14,
   "id": "7b3dccd1",
   "metadata": {},
   "outputs": [
    {
     "name": "stdout",
     "output_type": "stream",
     "text": [
      "              precision    recall  f1-score   support\n",
      "\n",
      "     Average       0.99      1.00      0.99       140\n",
      "         Bad       1.00      1.00      1.00       453\n",
      "        Good       1.00      0.99      0.99       205\n",
      "\n",
      "    accuracy                           0.99       798\n",
      "   macro avg       0.99      0.99      0.99       798\n",
      "weighted avg       1.00      0.99      0.99       798\n",
      "\n"
     ]
    }
   ],
   "source": [
    "from sklearn.neighbors import KNeighborsClassifier\n",
    "\n",
    "knn = KNeighborsClassifier(n_neighbors=5)\n",
    "knn.fit(X_train_scaled, y_train)\n",
    "\n",
    "y_pred_knn = knn.predict(X_test_scaled)\n",
    "print(classification_report(y_test, y_pred_knn, target_names=le.classes_))\n"
   ]
  }
 ],
 "metadata": {
  "kernelspec": {
   "display_name": "venv",
   "language": "python",
   "name": "python3"
  },
  "language_info": {
   "codemirror_mode": {
    "name": "ipython",
    "version": 3
   },
   "file_extension": ".py",
   "mimetype": "text/x-python",
   "name": "python",
   "nbconvert_exporter": "python",
   "pygments_lexer": "ipython3",
   "version": "3.12.6"
  }
 },
 "nbformat": 4,
 "nbformat_minor": 5
}
